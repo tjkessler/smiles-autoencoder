{
 "cells": [
  {
   "cell_type": "code",
   "execution_count": 1,
   "metadata": {},
   "outputs": [
    {
     "name": "stdout",
     "output_type": "stream",
     "text": [
      "25000\n",
      "BrC1=C2C3C4C3N(CC4C#C)C2=NC(=O)S1\n"
     ]
    }
   ],
   "source": [
    "from typing import List\n",
    "\n",
    "\n",
    "# open GDB-17 SMILES dataset\n",
    "with open(\"GDB17.50000000.smi\", \"r\") as smi_file:\n",
    "    smiles: List[str] = smi_file.readlines()\n",
    "smi_file.close()\n",
    "\n",
    "# let's use the first 25k\n",
    "smiles = smiles[:25000]\n",
    "\n",
    "# replace newline characters\n",
    "for i in range(len(smiles)):\n",
    "    smiles[i] = smiles[i].replace(\"\\n\", \"\")\n",
    "\n",
    "print(len(smiles))\n",
    "print(smiles[0])"
   ]
  },
  {
   "cell_type": "code",
   "execution_count": 2,
   "metadata": {},
   "outputs": [
    {
     "name": "stdout",
     "output_type": "stream",
     "text": [
      "22500 2500\n"
     ]
    }
   ],
   "source": [
    "from sklearn.model_selection import train_test_split\n",
    "\n",
    "\n",
    "# 90% for training, 10% for testing\n",
    "smiles_train, smiles_test = train_test_split(smiles, test_size=0.1, random_state=42)\n",
    "\n",
    "print(len(smiles_train), len(smiles_test))"
   ]
  },
  {
   "cell_type": "code",
   "execution_count": 3,
   "metadata": {},
   "outputs": [
    {
     "name": "stdout",
     "output_type": "stream",
     "text": [
      "torch.Size([22500, 43, 24]) torch.Size([2500, 43, 24])\n"
     ]
    }
   ],
   "source": [
    "import torch\n",
    "\n",
    "from smiles_autoencoder.encoding import SmilesEncoder\n",
    "\n",
    "\n",
    "enc = SmilesEncoder()\n",
    "enc.fit(smiles_train)\n",
    "\n",
    "encodings_train = torch.tensor(enc.encode_many(smiles_train), dtype=torch.float32)\n",
    "encodings_test = torch.tensor(enc.encode_many(smiles_test), dtype=torch.float32)\n",
    "\n",
    "# shape (n_samples, sequence_len, n_features)\n",
    "print(encodings_train.shape, encodings_test.shape)"
   ]
  },
  {
   "cell_type": "code",
   "execution_count": 4,
   "metadata": {},
   "outputs": [
    {
     "name": "stdout",
     "output_type": "stream",
     "text": [
      "0 11.607131413470015\n",
      "1 1.9812503546082956\n",
      "2 1.8219382513035158\n",
      "3 1.4422558219921664\n",
      "4 0.8457013083114121\n",
      "5 0.3247736788992405\n",
      "6 0.27748211878787954\n",
      "7 0.26657148704308287\n"
     ]
    }
   ],
   "source": [
    "import numpy as np\n",
    "import torch.nn as nn\n",
    "\n",
    "from smiles_autoencoder.model import LSTMAutoencoder\n",
    "\n",
    "\n",
    "ae = LSTMAutoencoder(\n",
    "    encodings_train.shape[2],\n",
    "    64,\n",
    "    12,\n",
    "    1\n",
    ")\n",
    "\n",
    "opt = torch.optim.Adam(ae.parameters(), lr=0.001)\n",
    "crit = nn.L1Loss(reduction=\"sum\")\n",
    "\n",
    "BATCH_SIZE = 1\n",
    "EPOCHS = 8\n",
    "\n",
    "losses = []\n",
    "\n",
    "for epoch in range(EPOCHS):\n",
    "\n",
    "    _losses = []\n",
    "\n",
    "    for idx in range(0, encodings_train.shape[0] - 1, BATCH_SIZE):\n",
    "\n",
    "        opt.zero_grad()\n",
    "        _batch = encodings_train[idx: min(idx + BATCH_SIZE, encodings_train.shape[0] - 1)]\n",
    "        pred = ae(_batch)\n",
    "        loss = crit(pred, _batch)\n",
    "        loss.backward()\n",
    "        opt.step()\n",
    "        _losses.append(loss.item())\n",
    "\n",
    "    losses.append(np.mean(_losses))\n",
    "    print(epoch, losses[-1])"
   ]
  },
  {
   "cell_type": "code",
   "execution_count": 5,
   "metadata": {},
   "outputs": [
    {
     "data": {
      "image/png": "[encoded data removed]",
      "text/plain": [
       "<Figure size 640x480 with 1 Axes>"
      ]
     },
     "metadata": {},
     "output_type": "display_data"
    }
   ],
   "source": [
    "from matplotlib import pyplot as plt\n",
    "\n",
    "\n",
    "plt.clf()\n",
    "plt.rcParams[\"font.family\"] = \"Times New Roman\"\n",
    "plt.plot([i for i in range(len(losses))], losses, color=\"blue\")\n",
    "plt.xlabel(\"Epoch\")\n",
    "plt.ylabel(\"L1 loss\")\n",
    "plt.show()"
   ]
  },
  {
   "cell_type": "code",
   "execution_count": 6,
   "metadata": {},
   "outputs": [
    {
     "name": "stdout",
     "output_type": "stream",
     "text": [
      "21761 739\n",
      "0.9671555555555555\n"
     ]
    }
   ],
   "source": [
    "n_true = 0\n",
    "n_false = 0\n",
    "\n",
    "for idx, sample in enumerate(encodings_train):\n",
    "\n",
    "    pred = ae(sample)\n",
    "    _smi = enc.decode(torch.round(pred).detach().numpy().astype(int))\n",
    "    if _smi == smiles_train[idx]:\n",
    "        n_true += 1\n",
    "    else:\n",
    "        n_false += 1\n",
    "\n",
    "print(n_true, n_false)\n",
    "print(n_true / (n_true + n_false))"
   ]
  },
  {
   "cell_type": "code",
   "execution_count": 7,
   "metadata": {},
   "outputs": [
    {
     "name": "stdout",
     "output_type": "stream",
     "text": [
      "2424 76\n",
      "0.9696\n"
     ]
    }
   ],
   "source": [
    "n_true = 0\n",
    "n_false = 0\n",
    "\n",
    "for idx, sample in enumerate(encodings_test):\n",
    "\n",
    "    pred = ae(sample)\n",
    "    _smi = enc.decode(torch.round(pred).detach().numpy().astype(int))\n",
    "    if _smi == smiles_test[idx]:\n",
    "        n_true += 1\n",
    "    else:\n",
    "        n_false += 1\n",
    "\n",
    "print(n_true, n_false)\n",
    "print(n_true / (n_true + n_false))"
   ]
  }
 ],
 "metadata": {
  "kernelspec": {
   "display_name": "graphchem",
   "language": "python",
   "name": "python3"
  },
  "language_info": {
   "codemirror_mode": {
    "name": "ipython",
    "version": 3
   },
   "file_extension": ".py",
   "mimetype": "text/x-python",
   "name": "python",
   "nbconvert_exporter": "python",
   "pygments_lexer": "ipython3",
   "version": "3.11.9"
  }
 },
 "nbformat": 4,
 "nbformat_minor": 2
}
